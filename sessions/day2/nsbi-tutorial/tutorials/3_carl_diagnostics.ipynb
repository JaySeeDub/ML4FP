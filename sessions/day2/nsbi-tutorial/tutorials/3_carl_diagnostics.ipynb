{
 "cells": [
  {
   "cell_type": "markdown",
   "id": "00fe27ba",
   "metadata": {},
   "source": [
    "# NSBI diagnostics\n",
    "\n",
    "In the previous chapter, we've trained CARL models that approximate the density ratio between two hypotheses of an event:\n",
    "\n",
    "$$\n",
    " \\hat{r}(x ; H_1, H_2) \\sim r ( x ; H_1, H_2) \\equiv \\frac{p(x | H_1)}{p(x | H_2)}\n",
    "$$\n",
    "\n",
    "The validity of our NSBI results, of course, depends on close this approixmation, $~$, holds. We will perform two diagnostics to gauge how well our estimates are performing."
   ]
  },
  {
   "cell_type": "code",
   "execution_count": 17,
   "id": "529af8e6",
   "metadata": {},
   "outputs": [],
   "source": [
    "import numpy as np\n",
    "import pandas as pd\n",
    "import matplotlib, matplotlib.pyplot as plt\n",
    "import vector\n",
    "import hist\n",
    "\n",
    "import torch\n",
    "torch.set_float32_matmul_precision('medium')\n",
    "from torch.utils.data import TensorDataset, DataLoader\n",
    "import lightning as L\n",
    "\n",
    "from physics.analysis import zz4l, zz2l2v\n",
    "from datasets.balanced import BalancedDataset\n",
    "from nsbi import carl"
   ]
  },
  {
   "cell_type": "markdown",
   "id": "f8baf229",
   "metadata": {},
   "source": [
    "## 0. Load the training/validation data, scaler, and model checkpoint\n",
    "\n",
    "First, we'll load everything we need. Note that if you set the same seed for the two models come into play, you only need to load denominator hypothesis datasets once; otherwise you will need the denominator datasets corresponding to each model separately."
   ]
  },
  {
   "cell_type": "code",
   "execution_count": 10,
   "id": "917aeb9a",
   "metadata": {},
   "outputs": [],
   "source": [
    "run_dir = 'run/h4l'\n",
    "\n",
    "(events_sig_train, events_sig_val), (events_bkg_train, events_bkg_val) = carl.utils.load_data(run_dir, 'sig_over_bkg')\n",
    "(events_sbi_train, events_sbi_val), _ = carl.utils.load_data(run_dir, 'sig_over_bkg')  # same seed!\n",
    "\n",
    "scaler_sig_over_bkg, model_sig_over_bkg = carl.utils.load_results(run_dir, 'sig_over_bkg')\n",
    "scaler_sbi_over_bkg, model_sbi_over_bkg = carl.utils.load_results(run_dir, 'sbi_over_bkg')\n",
    "\n",
    "features_4l = ['l1_pt', 'l1_eta', 'l1_phi', 'l1_energy', 'l2_pt', 'l2_eta', 'l2_phi', 'l2_energy', 'l3_pt', 'l3_eta', 'l3_phi', 'l3_energy', 'l4_pt', 'l4_eta', 'l4_phi', 'l4_energy']\n"
   ]
  },
  {
   "cell_type": "markdown",
   "id": "331bfd60",
   "metadata": {},
   "source": [
    "## 1. Reweighting\n",
    "\n",
    "An intuitive expectation of a DRE is that it should provide a correspondingly accurate reweighting of an event between hypotheses:\n",
    "\n",
    "$$\n",
    " \\hat{p}(x | H_1) = p(x| H_2) \\times \\hat{r}(x ; H_1, H_2) \\Rightarrow \\hat{w}_{H_2 \\to H_1}(x) \\sim w_{H_2}(x) \\times r( x ; H_1, H_2) / N\n",
    "$$\n",
    "\n",
    "where $N$ is an arbitrary normalization factor (remember: we are performing a *density* ratio estimate!). In order to perform this check for one estimate, you must:\n",
    "\n",
    "1. Scale the features of the denominator hypothesis events using the scaler from training.\n",
    "2. Run the model over the scaled features.\n",
    "3. Perform the likelihood trick over the output."
   ]
  },
  {
   "cell_type": "code",
   "execution_count": null,
   "id": "df2a9cdc",
   "metadata": {},
   "outputs": [
    {
     "name": "stderr",
     "output_type": "stream",
     "text": [
      "Using default `ModelCheckpoint`. Consider installing `litmodels` package to enable `LitModelCheckpoint` for automatic upload to the Lightning model registry.\n",
      "GPU available: True (cuda), used: True\n",
      "TPU available: False, using: 0 TPU cores\n",
      "HPU available: False, using: 0 HPUs\n",
      "The following callbacks returned in `LightningModule.configure_callbacks` will override existing callbacks passed to Trainer: ModelCheckpoint\n",
      "LOCAL_RANK: 0 - CUDA_VISIBLE_DEVICES: [0,1,2,3,4,5,6,7]\n"
     ]
    },
    {
     "name": "stderr",
     "output_type": "stream",
     "text": [
      "/afs/ipp-garching.mpg.de/home/t/taepa/.local/lib/python3.10/site-packages/lightning/pytorch/trainer/connectors/data_connector.py:425: The 'predict_dataloader' does not have many workers which may be a bottleneck. Consider increasing the value of the `num_workers` argument` to `num_workers=127` in the `DataLoader` to improve performance.\n"
     ]
    },
    {
     "data": {
      "application/vnd.jupyter.widget-view+json": {
       "model_id": "86b09578164a4b808d50c932aef01ae5",
       "version_major": 2,
       "version_minor": 0
      },
      "text/plain": [
       "Predicting: |                                                                                                 …"
      ]
     },
     "metadata": {},
     "output_type": "display_data"
    }
   ],
   "source": [
    "# IMPLEMENT ME\n",
    "events_num_train, events_train_denom = events_sig_train, events_sig_val \n",
    "scaler = scaler_sig_over_bkg\n",
    "model = model_sig_over_bkg\n",
    "events_denom_train, events_denom_val = events_bkg_train, events_bkg_val\n",
    "\n",
    "X_denom_train, X_denom_val = scaler.transform(events_denom_train.kinematics[features_4l].to_numpy()), scaler.transform(events_denom_val.kinematics[features_4l].to_numpy())\n",
    "dl_denom_train, dl_denom_val = DataLoader(TensorDataset(torch.tensor(X_denom_train, dtype=torch.float32)), batch_size=1024), DataLoader(TensorDataset(torch.tensor(X_denom_val, dtype=torch.float32)), batch_size=1024) \n",
    "\n",
    "trainer = L.Trainer(accelerator='gpu', devices=1)\n",
    "s_num_vs_denom = torch.cat(trainer.predict(model, dl_denom_train))\n",
    "r_num_over_denom = s_num_vs_denom / (1 - s_num_vs_denom)"
   ]
  },
  {
   "cell_type": "markdown",
   "id": "78b4b68f",
   "metadata": {},
   "source": [
    "# 1. (b) Compare numerator vs. denominator-reweighted distributions\n",
    "\n",
    "1. Multiply the DRE onto the denominator hypothesis event weights.\n",
    "2. Compare distributions of an observable, e.g. $m_{4\\ell}$, obtained using (1) numerator hypothesis events & weights, and (2) denominator hypothesis events & reweights."
   ]
  },
  {
   "cell_type": "code",
   "execution_count": 28,
   "id": "ad9134d4",
   "metadata": {},
   "outputs": [
    {
     "data": {
      "text/plain": [
       "[StairsArtists(stairs=<matplotlib.patches.StepPatch object at 0x7f716b278430>, errorbar=None, legend_artist=None)]"
      ]
     },
     "execution_count": 28,
     "metadata": {},
     "output_type": "execute_result"
    },
    {
     "data": {
      "image/png": "[encoded data removed]",
      "text/plain": [
       "<Figure size 640x480 with 1 Axes>"
      ]
     },
     "metadata": {},
     "output_type": "display_data"
    }
   ],
   "source": [
    "m4l_axis = hist.axis.Regular(21, 180, 1000, label = 'm4l')\n",
    "h_m4l_num = hist.Hist(m4l_axis)\n",
    "h_m4l_num_from_denom = hist.Hist(m4l_axis)\n",
    "\n",
    "def calculate_m4l(kinematics):\n",
    "    p_l1 = vector.array({'pt': kinematics['l1_pt'], 'eta': kinematics['l1_eta'], 'phi': kinematics['l1_phi'], 'energy': kinematics['l1_energy']})\n",
    "    p_l2 = vector.array({'pt': kinematics['l2_pt'], 'eta': kinematics['l2_eta'], 'phi': kinematics['l2_phi'], 'energy': kinematics['l2_energy']})\n",
    "    p_l3 = vector.array({'pt': kinematics['l3_pt'], 'eta': kinematics['l3_eta'], 'phi': kinematics['l3_phi'], 'energy': kinematics['l3_energy']})\n",
    "    p_l4 = vector.array({'pt': kinematics['l4_pt'], 'eta': kinematics['l4_eta'], 'phi': kinematics['l4_phi'], 'energy': kinematics['l4_energy']})\n",
    "    return (p_l1 + p_l2 + p_l3 + p_l4).mass\n",
    "\n",
    "\n",
    "# IMPLEMENT ME\n",
    "# NOTE: What should you do about the arbitrary normalization factor, N, from above?\n",
    "w_num = torch.tensor(events_num_train.weights)\n",
    "w_num_from_denom = torch.tensor(events_denom_train.weights * r_num_over_denom)\n",
    "w_num /= torch.sum(w_num)\n",
    "w_num_from_denom /= torch.sum(w_num_from_denom)\n",
    "\n",
    "h_m4l_num.fill( calculate_m4l(events_num_train.kinematics), weight=w_num)\n",
    "h_m4l_num_from_denom.fill( calculate_m4l(events_denom_train.kinematics), weight=w_num_from_denom)\n",
    "\n",
    "h_m4l_num.plot()\n",
    "h_m4l_num_from_denom.plot()"
   ]
  },
  {
   "cell_type": "markdown",
   "id": "5ab87a64",
   "metadata": {},
   "source": [
    "As performed in Chapter 1, you are encouraged to check in more detail via ratio plots. Qualitatively, are the histograms \"compatible\"?"
   ]
  },
  {
   "cell_type": "markdown",
   "id": "2ca5b149",
   "metadata": {},
   "source": [
    "## 2. Calibration curve\n",
    "\n",
    "A more direct and systematic way to check is to obtain what is referred to as the _calibration_ curve of the DRE.\n",
    "\n",
    "Task: perform the check for validation datasets as well --- are they also comparable? If not, you have an overfitting problem!"
   ]
  },
  {
   "cell_type": "markdown",
   "id": "6fee8411",
   "metadata": {},
   "source": [
    "### 2.(a) Run the model over the numerator & denominator hypothesis datasets\n",
    "\n",
    "We will make use of the pre-available `BalancedDataset` implementation (which was also used in the training) to consistently perform the $x$-scaling, event weight balancing, and $y = 0,1$ labeling of the numerator & denominator hypotheses."
   ]
  },
  {
   "cell_type": "code",
   "execution_count": null,
   "id": "92a9059d",
   "metadata": {},
   "outputs": [
    {
     "name": "stderr",
     "output_type": "stream",
     "text": [
      "The following callbacks returned in `LightningModule.configure_callbacks` will override existing callbacks passed to Trainer: EarlyStopping, ModelCheckpoint\n",
      "LOCAL_RANK: 0 - CUDA_VISIBLE_DEVICES: [0,1,2,3,4,5,6,7]\n",
      "/afs/ipp-garching.mpg.de/home/t/taepa/.local/lib/python3.10/site-packages/lightning/pytorch/trainer/connectors/data_connector.py:425: The 'predict_dataloader' does not have many workers which may be a bottleneck. Consider increasing the value of the `num_workers` argument` to `num_workers=127` in the `DataLoader` to improve performance.\n"
     ]
    },
    {
     "data": {
      "application/vnd.jupyter.widget-view+json": {
       "model_id": "ddf8c381da11447f964834172f0b11cb",
       "version_major": 2,
       "version_minor": 0
      },
      "text/plain": [
       "Predicting: |                                                                                                 …"
      ]
     },
     "metadata": {},
     "output_type": "display_data"
    }
   ],
   "source": [
    "ds_train = BalancedDataset(events_num_train, events_denom_train, features=features_4l, scaler=scaler)\n",
    "dl_test = torch.utils.data.DataLoader(torch.tensor(ds_train.X, dtype=torch.float32), batch_size=1024)\n",
    "s_num_vs_denom = torch.cat(trainer.predict(model, dl_test).detach().numpy())"
   ]
  },
  {
   "cell_type": "markdown",
   "id": "2048b5bf",
   "metadata": {},
   "source": []
  },
  {
   "cell_type": "code",
   "execution_count": null,
   "id": "26fbc3ea",
   "metadata": {},
   "outputs": [
    {
     "name": "stdout",
     "output_type": "stream",
     "text": [
      "tensor([0.5050, 0.5037, 0.5030,  ..., 0.4785, 0.5036, 0.5044])\n"
     ]
    }
   ],
   "source": [
    "targets_test = ds_test.s\n",
    "weights_test = ds_test.w * len(ds_test)\n",
    "print(predictions_test)"
   ]
  },
  {
   "cell_type": "code",
   "execution_count": null,
   "id": "8643934c",
   "metadata": {},
   "outputs": [],
   "source": [
    "s_bins = np.linspace(0.0, 1.0, 41)\n",
    "s_centers = (s_bins[:-1] + s_bins[1:])/2\n",
    "s_nbins = len(s_bins) -1\n",
    "s_widths = (s_bins[1:] - s_bins[:-1])/2\n",
    "\n",
    "s_bins = np.linspace(0.0, 1.0, 41)\n",
    "s_centers = (s_bins[:-1] + s_bins[1:])/2\n",
    "s_nbins = len(s_bins) -1\n",
    "s_widths = (s_bins[1:] - s_bins[:-1])/2"
   ]
  },
  {
   "cell_type": "code",
   "execution_count": null,
   "id": "608b604b",
   "metadata": {},
   "outputs": [
    {
     "name": "stderr",
     "output_type": "stream",
     "text": [
      "/tmp/ipykernel_953008/3745675514.py:11: RuntimeWarning: invalid value encountered in divide\n",
      "  s_true = sig_per_bin/(sig_per_bin+bkg_per_bin)\n",
      "/tmp/ipykernel_953008/3745675514.py:16: RuntimeWarning: invalid value encountered in divide\n",
      "  (sig_err * bkg_per_bin / (sig_per_bin + bkg_per_bin)**2)**2 +\n",
      "/tmp/ipykernel_953008/3745675514.py:17: RuntimeWarning: invalid value encountered in divide\n",
      "  (bkg_err * sig_per_bin / (sig_per_bin + bkg_per_bin)**2)**2\n"
     ]
    }
   ],
   "source": [
    "p = predictions_test\n",
    "t = targets_test\n",
    "w = weights_test\n",
    "\n",
    "pred_binned = [p[(p >= s_bins[i]) & (p < s_bins[i+1])] for i in range(s_nbins)]\n",
    "targets_binned = [t[(p >= s_bins[i]) & (p < s_bins[i+1])] for i in range(s_nbins)]\n",
    "weights_binned = [w[(p >= s_bins[i]) & (p < s_bins[i+1])] for i in range(s_nbins)]\n",
    "\n",
    "sig_per_bin = np.array([np.sum((targets_binned[i]==1.0) * weights_binned[i]) for i in range(s_nbins)])\n",
    "bkg_per_bin = np.array([np.sum((targets_binned[i]==0.0) * weights_binned[i]) for i in range(s_nbins)])\n",
    "s_true = sig_per_bin/(sig_per_bin+bkg_per_bin)\n",
    "\n",
    "sig_err = np.sqrt(np.array([np.sum((targets_binned[i]==1.0) * weights_binned[i] * weights_binned[i]) for i in range(s_nbins)]))\n",
    "bkg_err = np.sqrt(np.array([np.sum((targets_binned[i]==0.0) * weights_binned[i] * weights_binned[i]) for i in range(s_nbins)]))\n",
    "s_err = np.sqrt(\n",
    "    (sig_err * bkg_per_bin / (sig_per_bin + bkg_per_bin)**2)**2 +\n",
    "    (bkg_err * sig_per_bin / (sig_per_bin + bkg_per_bin)**2)**2\n",
    ")"
   ]
  },
  {
   "cell_type": "code",
   "execution_count": null,
   "id": "786a065a",
   "metadata": {},
   "outputs": [],
   "source": [
    "fig, (ax1, ax2) = plt.subplots(2,1, gridspec_kw={'height_ratios': [4,1]}, figsize=(5,5), sharex=True)\n",
    "ax1.set_aspect('equal', adjustable='box')\n",
    "\n",
    "ax1.errorbar([0,1], [0,1], color='grey', linestyle='--', linewidth=lw, label='$\\\\mathrm{MC}$')\n",
    "ax1.errorbar(s_centers, s_true, xerr=s_widths, yerr=s_err, color='cornflowerblue', linestyle='none', linewidth=lw,  label='$\\\\mathrm{NSBI}$')\n",
    "\n",
    "ax1.set_ylim(0,1)\n",
    "ax1.set_ylabel('$\\\\mathrm{MC\\\\ estimate}\\\\ \\\\frac{p_{q\\\\bar{q}}(x)}{ p_{q\\\\bar{q}}(x) + p_{gg}(x) }$', fontsize=15)\n",
    "\n",
    "ax1.legend(frameon=False, fontsize=12)\n",
    "\n",
    "ax2.errorbar([0,1], [0,0], color='grey', linestyle='--', linewidth=lw)\n",
    "ax2.errorbar(s_centers, np.array(s_true)-np.array(s_centers), xerr=s_widths, yerr=s_err, color='cornflowerblue', linestyle='none', linewidth=lw)\n",
    "\n",
    "ax2.set_xlim(0,1)\n",
    "ax2.set_xlabel('$\\\\mathrm{NSBI\\\\ estimate}\\\\ \\\\hat{s}(x)$', fontsize=15)\n",
    "ax2.set_ylabel('$\\\\mathrm{Residual}$', fontsize=15)\n",
    "ax2.set_ylim(-0.075, 0.075)\n",
    "ax2.yaxis.set_ticks([-0.05, 0.05])\n",
    "\n",
    "ax1.tick_params(labelsize=12)\n",
    "ax2.tick_params(labelsize=12)\n",
    "\n",
    "# ax1.text(0.96 ,0.12, '$pp \\\\rightarrow ZZ \\\\rightarrow 4\\\\ell$', transform=ax1.transAxes, ha='right', va='bottom', fontsize=12)\n",
    "ax1.text(0.96 ,0.12, '$pp \\\\rightarrow ZZ \\\\rightarrow 2\\\\ell 2\\\\nu$', transform=ax1.transAxes, ha='right', va='bottom', fontsize=12)\n",
    "ax1.text(0.96 ,0.04, '$\\\\sqrt{s} = 14\\\\,\\\\mathrm{TeV}$', transform=ax1.transAxes, ha='right', va='bottom', fontsize=12)\n",
    "\n",
    "plt.tight_layout()\n",
    "plt.subplots_adjust(hspace=0)\n",
    "\n",
    "fig.canvas.draw()  # update positions\n",
    "ax1_pos, ax2_pos = ax1.get_position(), ax2.get_position()\n",
    "ax2.set_position([ax1_pos.x0, ax2_pos.y0, ax1_pos.width, ax2_pos.height]) # align 2nd x-axis with 1st\n",
    "\n",
    "ax2.xaxis.set_tick_params(which='both', labeltop=False, top=True)\n",
    "\n",
    "plt.savefig('carl_calibration.pdf', bbox_inches='tight')\n",
    "plt.close()"
   ]
  },
  {
   "cell_type": "code",
   "execution_count": null,
   "id": "43a72076",
   "metadata": {},
   "outputs": [],
   "source": [
    "predictions_denominator_test = carl_model(torch.tensor(scaler.transform(events_d_test.kinematics[features].to_numpy()), dtype=torch.float32)).detach().numpy().ravel()\n",
    "# predictions_denominator_val = carl_model(torch.tensor(scaler.transform(events_ninator_val.kinematics[features].to_numpy()), dtype=torch.float32)).detach().numpy().ravel()"
   ]
  },
  {
   "cell_type": "code",
   "execution_count": null,
   "id": "af9c2c44",
   "metadata": {},
   "outputs": [],
   "source": [
    "m4l_numerator = events_n_test.calculate(zz4l.FourLeptonSystem()).kinematics['4l_mass']\n",
    "m4l_denominator = events_d_test.calculate(zz4l.FourLeptonSystem()).kinematics['4l_mass']\n",
    "xobs_numerator = m4l_numerator\n",
    "xobs_denominator = m4l_denominator\n",
    "xbins = np.concatenate([np.arange(180,250,10), np.arange(250,500,50), np.arange(500,750,125), np.arange(750,1100,250)])\n",
    "xmin, xmax = 180, 1000\n",
    "xwidths = np.diff(xbins)\n",
    "xcenters = xbins[:-1] + xwidths/2\n",
    "xlabel = '$m_{ZZ}\\\\ \\\\mathrm{[GeV]}$'\n",
    "y2_min, y2_max = 0.5, 3.5\n",
    "y3_min, y3_max = 0.85, 1.15\n",
    "\n",
    "# mtzz_numerator = events_n_test.calculate(zz2l2v.ZZ2L2V()).kinematics['zz_mt']\n",
    "# mtzz_denominator = events_d_test.calculate(zz2l2v.ZZ2L2V()).kinematics['zz_mt']\n",
    "# xobs_numerator = mtzz_numerator\n",
    "# xobs_denominator = mtzz_denominator\n",
    "# xbins = np.concatenate([np.arange(250,300,10), np.arange(300,400,25), np.arange(400,500,50), np.arange(500,1100,100)])\n",
    "# xmin, xmax = 250, 1000\n",
    "# xwidths = np.diff(xbins)\n",
    "# xcenters = xbins[:-1] + xwidths/2\n",
    "# xlabel = '$m_{\\\\mathrm T}^{ZZ}\\\\ \\\\mathrm{[GeV]}$'\n",
    "# y2_min, y2_max = 0.75, 1.75\n",
    "# y3_min, y3_max = 0.85, 1.15"
   ]
  },
  {
   "cell_type": "code",
   "execution_count": null,
   "id": "82e84afc",
   "metadata": {},
   "outputs": [
    {
     "name": "stderr",
     "output_type": "stream",
     "text": [
      "/tmp/ipykernel_953008/2950299888.py:40: UserWarning: The figure layout has changed to tight\n",
      "  plt.tight_layout()\n"
     ]
    }
   ],
   "source": [
    "h_num_mc = hist.Hist(hist.axis.Variable(xbins), storage=hist.storage.Weight())\n",
    "h_num_mc.fill(xobs_numerator, weight=events_n_test.probabilities)\n",
    "\n",
    "h_denom = hist.Hist(hist.axis.Variable(xbins), storage=hist.storage.Weight())\n",
    "h_denom.fill(xobs_denominator, weight=events_d_test.probabilities)\n",
    "\n",
    "h_num_carl = hist.Hist(hist.axis.Variable(xbins), storage=hist.storage.Weight())\n",
    "h_num_carl.fill(xobs_denominator, weight=events_d_test.probabilities * (predictions_denominator_test / (1 - predictions_denominator_test)))\n",
    "\n",
    "fig, (ax1, ax2, ax3) = plt.subplots(3,1,gridspec_kw={'height_ratios': [2, 1, 1]},figsize=(5,6), layout='constrained', sharex=True)\n",
    "\n",
    "ax1.stairs(h_num_carl.values()/xwidths, h_num_carl.axes[0].edges, color='cornflowerblue', linewidth=lw, label='$q\\\\bar{q} \\\\to ZZ\\\\ (\\\\mathrm{NSBI})$')\n",
    "ax1.stairs(h_num_mc.values()/xwidths, h_num_mc.axes[0].edges, color='blue', linestyle='--', linewidth=lw, label='$q\\\\bar{q} \\\\to ZZ\\\\ (\\\\mathrm{MC})$')\n",
    "ax1.stairs(h_denom.values()/xwidths, h_denom.axes[0].edges, color='black', linestyle='--', linewidth=lw, label='$gg(\\\\to h^{\\\\ast}) \\\\to ZZ$')\n",
    "\n",
    "ax2.stairs(h_num_carl.values()/h_denom.values(), h_num_mc.axes[0].edges, color='cornflowerblue', linewidth=lw)\n",
    "ax2.stairs(h_num_mc.values()/h_denom.values(), h_num_mc.axes[0].edges, color='blue', linestyle='--', linewidth=lw)\n",
    "ax2.stairs(h_denom.values()/h_denom.values(), h_denom.axes[0].edges, color='black', linestyle='--', linewidth=lw)\n",
    "\n",
    "ax3.stairs(h_num_mc.values()/h_num_mc.values(), xbins, color='blue', linestyle='--', linewidth=lw)\n",
    "ax3.errorbar(xcenters, h_num_carl.values()/h_num_mc.values(), yerr=np.sqrt(h_num_carl.variances())/h_num_carl.values(), xerr=xwidths/2, fmt='none', color='cornflowerblue', linewidth=lw)\n",
    "\n",
    "ax1.legend(frameon=False, fontsize=12)\n",
    "\n",
    "ax1.set_yscale('log')\n",
    "ax2.set_ylim(y2_min, y2_max)\n",
    "ax3.set_ylim(y3_min, y3_max)\n",
    "\n",
    "ax1.tick_params(labelsize=12)\n",
    "ax2.tick_params(labelsize=12)\n",
    "ax3.tick_params(labelsize=12)\n",
    "\n",
    "ax1.set_ylabel('$\\\\mathrm{Density\\\\ of\\\\ events\\\\ [1/GeV]}$', fontsize=15, loc='top')\n",
    "ax2.set_ylabel('$p_{q\\\\bar{q}}/p_{gg}$', fontsize=15)\n",
    "ax3.set_ylabel('$\\\\mathrm{NSBI}/\\\\mathrm{MC}$', fontsize=12)\n",
    "\n",
    "ax3.set_xlabel(xlabel, fontsize=12)\n",
    "ax3.set_xlim(xmin, xmax)\n",
    "\n",
    "plt.tight_layout()\n",
    "plt.subplots_adjust(hspace=0)\n",
    "\n",
    "plt.savefig('carl_reweight.pdf', bbox_inches='tight')"
   ]
  },
  {
   "cell_type": "code",
   "execution_count": null,
   "id": "463579b2",
   "metadata": {},
   "outputs": [],
   "source": []
  },
  {
   "cell_type": "code",
   "execution_count": null,
   "id": "4a39e446",
   "metadata": {},
   "outputs": [],
   "source": []
  }
 ],
 "metadata": {
  "kernelspec": {
   "display_name": "Python 3 (ipykernel)",
   "language": "python",
   "name": "python3"
  },
  "language_info": {
   "codemirror_mode": {
    "name": "ipython",
    "version": 3
   },
   "file_extension": ".py",
   "mimetype": "text/x-python",
   "name": "python",
   "nbconvert_exporter": "python",
   "pygments_lexer": "ipython3",
   "version": "3.10.13"
  }
 },
 "nbformat": 4,
 "nbformat_minor": 5
}
