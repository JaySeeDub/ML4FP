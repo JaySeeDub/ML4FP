{
 "cells": [
  {
   "cell_type": "markdown",
   "id": "9ac87a66",
   "metadata": {},
   "source": [
    "# Exploration of the $gg \\to (h^{\\ast} \\to) ZZ \\to 4\\ell$ dataset\n",
    "\n",
    "In this tutorial, we will take some time to explore & understand the phenomenology of the off-shell Higgs production."
   ]
  },
  {
   "cell_type": "code",
   "execution_count": 1,
   "id": "58d204ef",
   "metadata": {},
   "outputs": [],
   "source": [
    "# import the packages\n",
    "\n",
    "import pandas as pd\n",
    "import numpy as np\n",
    "import vector\n",
    "import hist\n",
    "\n",
    "from physics.simulation import mcfm\n",
    "from physics.analysis import zz4l, zz2l2v\n",
    "from physics.hstar import sigstr\n",
    "from nsbi import carl\n",
    "\n",
    "import matplotlib, matplotlib.pyplot as plt"
   ]
  },
  {
   "cell_type": "markdown",
   "id": "d60ff0a8",
   "metadata": {},
   "source": [
    "## 1. Open the dataset\n",
    "\n",
    "Use the `mcfm.from_csv(...)` function to open three datasetsv generated according to the different hypotheses:\n",
    "\n",
    "1. Signal-only, $|\\mathcal{M}_{gg \\to h^{\\ast} \\to ZZ}|^2$.\n",
    "2. Background-only, $|\\mathcal{M}_{gg \\to h^{\\ast} \\to ZZ}|^2$.\n",
    "3. Signal-background-interference, $|\\mathcal{M}_{gg \\to h^{\\ast} \\to ZZ}|^2$.\n",
    "\n",
    "The most complete set of features that represents an event in terms of experimental observables, which will be denoted $x$ , is the four-momenta of each of the four leptons, ordered by their $p_{\\rm T}$.\n",
    "\n",
    "$$ x \\equiv (E_\\ell, {\\bf p}_{\\ell}),\\, \\ell = 1,2,3,4$$\n",
    "\n",
    "Events corresponding to each hypothesis and their lepton kinematics have been prepared for you to open. Additionally, associated with each event is also a real-valued *weight* that corresponds to the value of the differential cross-section of the event:\n",
    "\n",
    "$$ \\frac{d\\sigma}{dx} = p(x) \\sigma $$\n"
   ]
  },
  {
   "cell_type": "code",
   "execution_count": 2,
   "id": "214b9223",
   "metadata": {},
   "outputs": [],
   "source": [
    "features_4l = ['l1_pt', 'l1_eta', 'l1_phi', 'l1_energy', 'l2_pt', 'l2_eta', 'l2_phi', 'l2_energy', 'l3_pt', 'l3_eta', 'l3_phi', 'l3_energy', 'l4_pt', 'l4_eta', 'l4_phi', 'l4_energy']\n",
    "events_sig = mcfm.from_csv(file_path = '/ptmp/mpp/taepa/higgs-offshell-interpretation/data/zz4l/ggZZ_sig/analyzed.csv', kinematics = features_4l, n_rows=1e5)\n",
    "events_bkg = mcfm.from_csv(file_path = '/ptmp/mpp/taepa/higgs-offshell-interpretation/data/zz4l/ggZZ_bkg/analyzed.csv', kinematics = features_4l, n_rows=1e5)\n",
    "events_sbi = mcfm.from_csv(file_path = '/ptmp/mpp/taepa/higgs-offshell-interpretation/data/zz4l/ggZZ_sbi/analyzed.csv', kinematics = features_4l, n_rows=1e5)"
   ]
  },
  {
   "cell_type": "markdown",
   "id": "63b3dd6e",
   "metadata": {},
   "source": [
    "## 1. Basic histogramming\n",
    "\n",
    "A binned visualzation of this can be performed using histograms, as should be familiar to all of us in HEP. Use the `hist` package to:\n",
    "\n",
    "1. Define a histogram with 20 bins from $0 \\leq p_{\\rm T} < 200\\, \\rm GeV$.\n",
    "2. Fill it with the leading lepton $p_{\\rm T}^{\\ell_1}$ as the observable, with weights."
   ]
  },
  {
   "cell_type": "code",
   "execution_count": 5,
   "id": "99aba79f",
   "metadata": {},
   "outputs": [
    {
     "data": {
      "text/html": [
       "<html>\n",
       "<div style=\"display:flex; align-items:center;\">\n",
       "<div style=\"width:290px;\">\n",
       "<svg xmlns=\"http://www.w3.org/2000/svg\" viewBox=\"-10 -105 270 120\">\n",
       "<line x1=\"-5\" y1=\"0\" x2=\"255\" y2=\"0\" style=\"fill:none;stroke-width:2;stroke:currentColor\"/>\n",
       "<text text-anchor=\"middle\" x=\"0\" y=\"15\" style=\"fill:currentColor;\">\n",
       "0\n",
       "</text>\n",
       "<text text-anchor=\"middle\" x=\"250\" y=\"15\" style=\"fill:currentColor;\">\n",
       "200\n",
       "</text>\n",
       "<text text-anchor=\"middle\" x=\"125.0\" y=\"15\" style=\"fill:currentColor;\">\n",
       "l1pt\n",
       "</text>\n",
       "<polyline points=\"  0,0   0,-0 12.5,-0 12.5,-0  25,-0  25,-2.2 37.5,-2.2 37.5,-16.1  50,-16.1  50,-83 62.5,-83 62.5,-100  75,-100  75,-77 87.5,-77 87.5,-57.2 100,-57.2 100,-41.4 112.5,-41.4 112.5,-28.4 125,-28.4 125,-20.4 137.5,-20.4 137.5,-14.4 150,-14.4 150,-10.4 162.5,-10.4 162.5,-7.47 175,-7.47 175,-5.65 187.5,-5.65 187.5,-4.33 200,-4.33 200,-3.26 212.5,-3.26 212.5,-2.49 225,-2.49 225,-2.02 237.5,-2.02 237.5,-1.5 250,-1.5 250,0\" style=\"fill:none; stroke:currentColor;\"/>\n",
       "</svg>\n",
       "</div>\n",
       "<div style=\"flex=grow:1;\">\n",
       "Regular(20, 0, 200, label='l1pt')<br/>\n",
       "<hr style=\"margin-top:.2em; margin-bottom:.2em;\"/>\n",
       "Double() Σ=0.19403852733435017 <em>(0.19642346696320315 with flow)</em>\n",
       "\n",
       "</div>\n",
       "</div>\n",
       "</html>"
      ],
      "text/plain": [
       "Hist(Regular(20, 0, 200, label='l1pt'), storage=Double()) # Sum: 0.19403852733435017 (0.19642346696320315 with flow)"
      ]
     },
     "execution_count": 5,
     "metadata": {},
     "output_type": "execute_result"
    }
   ],
   "source": [
    "l1pt_axis = hist.axis.Regular(20, 0, 200, label = 'l1pt')\n",
    "h_l1pt_sig = hist.Hist(l1pt_axis)\n",
    "h_l1pt_bkg = hist.Hist(l1pt_axis)\n",
    "h_l1pt_sbi = hist.Hist(l1pt_axis)\n",
    "\n",
    "h_l1pt_sig.fill( events_sig.kinematics['l1_pt'], weight = events_sig.weights )\n",
    "h_l1pt_bkg.fill( events_bkg.kinematics['l1_pt'], weight = events_bkg.weights )\n",
    "h_l1pt_sbi.fill( events_sbi.kinematics['l1_pt'], weight = events_sbi.weights )"
   ]
  },
  {
   "cell_type": "markdown",
   "id": "bc935a48",
   "metadata": {},
   "source": [
    "Recall that the Lorentz invariant mass of a four-momentum is given by.\n",
    "\n",
    "$$\n",
    "m = \\sqrt{E^2 - |{\\bf{p}}|^2}.\n",
    "$$\n",
    "\n",
    "The four-vector $p$ can represent that of any of the 4 leptons, or that of the entire 4-lepton system:\n",
    "\n",
    "$$\n",
    "    m_{4\\ell} = \\sqrt{\\left(\\sum_i E_i\\right)^2 - \\left|\\sum_i {\\bf p_i}\\right|^2}\n",
    "$$\n",
    "\n",
    "Let's compute this quantity using the convenient four-vector arithmetics provicded by the `vector` package. You can check your results with the correct values already saved in the event kinematics.\n"
   ]
  },
  {
   "cell_type": "code",
   "execution_count": 6,
   "id": "9e90bfb9",
   "metadata": {},
   "outputs": [],
   "source": [
    "def m4l(kinematics):\n",
    "    p_l1 = vector.array({'pt': kinematics['l1_pt'], 'eta': kinematics['l1_eta'], 'phi': kinematics['l1_phi'], 'energy': kinematics['l1_energy']})\n",
    "    p_l2 = vector.array({'pt': kinematics['l2_pt'], 'eta': kinematics['l2_eta'], 'phi': kinematics['l2_phi'], 'energy': kinematics['l2_energy']})\n",
    "    p_l3 = vector.array({'pt': kinematics['l3_pt'], 'eta': kinematics['l3_eta'], 'phi': kinematics['l3_phi'], 'energy': kinematics['l3_energy']})\n",
    "    p_l4 = vector.array({'pt': kinematics['l4_pt'], 'eta': kinematics['l4_eta'], 'phi': kinematics['l4_phi'], 'energy': kinematics['l4_energy']})\n",
    "    return (p_l1 + p_l2 + p_l3 + p_l4).mass"
   ]
  },
  {
   "cell_type": "markdown",
   "id": "7ea73aa1",
   "metadata": {},
   "source": [
    "Now we histogram the 4-lepon invariant mass! Use a uniform $20\\,\\rm GeV$-wide bins, $180 \\leq m_{4\\ell} < 1000\\, \\rm GeV$."
   ]
  },
  {
   "cell_type": "code",
   "execution_count": null,
   "id": "09fae752",
   "metadata": {},
   "outputs": [],
   "source": [
    "m4l_axis = hist.axis.Regular(20, 0, 200, label = 'm4l')\n",
    "h_m4l_sig = hist.Hist(m4l_axis)\n",
    "h_m4l_bkg = hist.Hist(m4l_axis)\n",
    "h_m4l_sbi = hist.Hist(m4l_axis)\n",
    "\n",
    "h_m4l_sig.fill( m4l(events_sig.kinematics), weight = events_sig.weights )\n",
    "h_m4l_bkg.fill( m4l(events_sig.kinematics), weight = events_bkg.weights )\n",
    "h_m4l_sbi.fill( m4l(events_sig.kinematics), weight = events_sbi.weights )"
   ]
  },
  {
   "cell_type": "markdown",
   "id": "980d1f11",
   "metadata": {},
   "source": [
    "## 3. Bonus: Inteference-only contribution\n",
    "\n",
    "Obtain the $m_{4\\ell}$ distribution corresponding to the interference-only hypothesis:\n",
    "\n",
    "$$\n",
    "\\color{grey} \\left| \\mathcal{M}_{\\rm S} + \\mathcal{M}_{\\rm B} \\right|^2 = |\\mathcal{M}_{\\rm S}|^2 +\\color{black}  2\\Re ( \\mathcal{M}^{\\dag}_{\\rm S} \\mathcal{M}_{\\rm B} ) \\color{grey} + \\left| \\mathcal{M}_{\\rm B} \\right|^2\n",
    "$$\n",
    "\n",
    "Note that the above three datasets correspond to the terms in grey."
   ]
  },
  {
   "cell_type": "markdown",
   "id": "ce5f9300",
   "metadata": {},
   "source": []
  },
  {
   "cell_type": "markdown",
   "id": "acf3ba54",
   "metadata": {},
   "source": []
  },
  {
   "cell_type": "markdown",
   "id": "d69549cb",
   "metadata": {},
   "source": []
  }
 ],
 "metadata": {
  "kernelspec": {
   "display_name": "Python 3 (ipykernel)",
   "language": "python",
   "name": "python3"
  },
  "language_info": {
   "codemirror_mode": {
    "name": "ipython",
    "version": 3
   },
   "file_extension": ".py",
   "mimetype": "text/x-python",
   "name": "python",
   "nbconvert_exporter": "python",
   "pygments_lexer": "ipython3",
   "version": "3.10.13"
  }
 },
 "nbformat": 4,
 "nbformat_minor": 5
}
